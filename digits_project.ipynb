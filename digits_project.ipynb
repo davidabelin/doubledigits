{
  "nbformat": 4,
  "nbformat_minor": 0,
  "metadata": {
    "colab": {
      "name": "digits_project.ipynb",
      "provenance": [],
      "collapsed_sections": [
        "ql_FDtDXoNib"
      ],
      "toc_visible": true,
      "machine_shape": "hm"
    },
    "kernelspec": {
      "display_name": "Python 3",
      "name": "python3"
    }
  },
  "cells": [
    {
      "cell_type": "markdown",
      "metadata": {
        "id": "view-in-github"
      },
      "source": [
        "<a href=\"https://colab.research.google.com/github/davidabelin/doubledigits/blob/main/arithmetic_double_digits.ipynb\" target=\"_parent\"><img src=\"https://colab.research.google.com/assets/colab-badge.svg\" alt=\"Open In Colab\"/></a>"
      ]
    },
    {
      "cell_type": "markdown",
      "metadata": {
        "id": "YHK6DyunSbs4"
      },
      "source": [
        "# Handwritten Arithmetic"
      ]
    },
    {
      "cell_type": "code",
      "metadata": {
        "id": "PLy3pthUS0D2",
        "cellView": "form"
      },
      "source": [
        "#@title IMPORTS\n",
        "%matplotlib inline\n",
        "import matplotlib.pyplot as plt\n",
        "import matplotlib.image as mpimg\n",
        "import seaborn as sbn\n",
        "\n",
        "import zipfile\n",
        "import math\n",
        "import random as rd\n",
        "import numpy as np\n",
        "import pandas as pd\n",
        "import os, signal\n",
        "from IPython.display import clear_output\n",
        "\n",
        "import tensorflow as tf\n",
        "from tensorflow.keras import layers\n",
        "from tensorflow.keras import Model\n",
        "#from tensorflow.keras.preprocessing.image import img_to_array, load_img\n",
        "#from tensorflow.keras.preprocessing.image import ImageDataGenerator\n",
        "from tensorflow.keras.layers import Dense, Flatten, Conv2D, MaxPooling2D, InputLayer, Input\n",
        "from tensorflow.keras.optimizers import RMSprop\n",
        "from tensorflow.keras.optimizers import Adam"
      ],
      "execution_count": null,
      "outputs": []
    },
    {
      "cell_type": "markdown",
      "metadata": {
        "id": "UY6KJV6z6l7_"
      },
      "source": [
        "# Construct the Input Data"
      ]
    },
    {
      "cell_type": "code",
      "metadata": {
        "id": "u8Y3AFF5pgJZ"
      },
      "source": [
        "#Load\n",
        "mnist = tf.keras.datasets.mnist\n",
        "(imgs_train, ans_train), (imgs_test, ans_test) = mnist.load_data()\n",
        "\n",
        "# Knobs\n",
        "nrows = 2\n",
        "ncols = 5\n",
        "\n",
        "N = 10000 # 10000 num training examples\n",
        "image_size = (28,56)\n",
        "epochs = 10\n",
        "batch_size = 100\n",
        "learning_rate = 0.005\n",
        "\n",
        "# Data\n",
        "imgs_train.shape, imgs_test.shape"
      ],
      "execution_count": null,
      "outputs": []
    },
    {
      "cell_type": "code",
      "metadata": {
        "id": "Gf0G6g1aAKhM"
      },
      "source": [
        "im = np.zeros(image_size)\n",
        "left_index = rd.randint(0,len(ans_train)-1)   \n",
        "right_index = rd.randint(0,len(ans_train)-1) \n",
        "\n",
        "left_max = np.max(imgs_train[left_index])\n",
        "left_min = np.min(imgs_train[left_index])\n",
        "left_scaled = (imgs_train[left_index] - left_min)/(left_max - left_min)\n",
        "\n",
        "right_max = np.max(imgs_train[right_index])\n",
        "right_min = np.min(imgs_train[right_index])\n",
        "right_scaled = (imgs_train[right_index] - right_min)/(right_max - right_min)\n",
        "\n",
        "im[:,8:32] += left_scaled[:,4:28]\n",
        "im[:,image_size[0]-4:image_size[1]-8] += right_scaled[:,0:image_size[0]-4]\n",
        "\n",
        "answer = ans_train[left_index]*10 + ans_train[right_index]\n",
        "print (\"Answer:\", ans_train[left_index],\"* 10 +\",ans_train[right_index],\"=\",answer)\n",
        "plt.imshow(im.clip(0,1), cmap='gray')"
      ],
      "execution_count": null,
      "outputs": []
    },
    {
      "cell_type": "code",
      "metadata": {
        "id": "6X6jzIZm1vDZ",
        "cellView": "both"
      },
      "source": [
        "def scale_array(arr):\n",
        "    max = np.max(arr)\n",
        "    min = np.min(arr)\n",
        "    scaled = (arr - min)/(max - min)\n",
        "    return scaled\n",
        "print(\"Loaded function scale_array\")\n",
        "\n",
        "def doubleDigits(images=imgs_train, answers=ans_train):\n",
        "    #returns image array, list of answers\n",
        "    left_index = rd.randrange(0, len(answers))   \n",
        "    right_index = rd.randrange(0, len(answers))\n",
        "    \n",
        "    answer = answers[left_index]*10 + answers[right_index]\n",
        "    \n",
        "    # Seperately scale single digit images to (0:1)\n",
        "    image = np.zeros(image_size)\n",
        "    half_width = image_size[1]//2\n",
        "    width = image_size[1]\n",
        "    left_scaled = scale_array(images[left_index])\n",
        "    right_scaled = scale_array(images[right_index])\n",
        "\n",
        "    # Group digits closer to middle\n",
        "    image[:,8:half_width+4] += left_scaled[:,4:half_width]\n",
        "    image[:,half_width-4:width-8] += right_scaled[:,0:half_width-4]\n",
        "       \n",
        "    return image.clip(0,1), int(answer)              \n",
        "    \n",
        "print(\"Loaded function doubleDigits\")\n",
        "\n",
        "def getDoubleDigits(images=imgs_train,answers=ans_train,how_many=1):\n",
        "    yy = np.zeros((how_many,),dtype=int)\n",
        "    xx = np.zeros((how_many, image_size[0], image_size[1]))\n",
        "    for i in range(how_many):\n",
        "        dd, ans = doubleDigits(images, answers)\n",
        "        yy[i] = ans\n",
        "        xx[i] = dd\n",
        "        if i%500 == 0:\n",
        "            print(\"Loaded:\",i,\"of\",how_many,\"examples...\")\n",
        "            clear_output(wait=True)\n",
        "    print(\"Loaded:\",how_many,\"examples.\")\n",
        "    return xx, yy\n",
        "\n",
        "print(\"Loaded function getDoubleDigits\")"
      ],
      "execution_count": null,
      "outputs": []
    },
    {
      "cell_type": "code",
      "metadata": {
        "id": "oekONaV-CcrI"
      },
      "source": [
        "x, y = getDoubleDigits(imgs_train,ans_train)\n",
        "idx = rd.randrange(0,len(y))\n",
        "print('Answer:',y[idx])\n",
        "plt.imshow(x[idx], cmap='gray')"
      ],
      "execution_count": null,
      "outputs": []
    },
    {
      "cell_type": "code",
      "metadata": {
        "id": "4YQljE-wizDw"
      },
      "source": [
        "######### GENERATE DD TRAINING DATA FOR FIRST MODEL #################\n",
        "x_test, y_test = getDoubleDigits(imgs_test,ans_test,N//10)\n",
        "\n",
        "print(\"Made\",N//20,\"new double-digit images to test on.\")\n",
        "\n",
        "x_train, y_train = getDoubleDigits(imgs_train,ans_train,N)\n",
        "\n",
        "print(\"Made\",N,\"new double-digit images to train on.\")\n",
        "\n",
        "######################## Add a channels dimension\n",
        "x_train = x_train[..., np.newaxis].astype(\"float32\") #was tf.newaxis\n",
        "x_test = x_test[..., np.newaxis].astype(\"float32\")  #was tf.newaxis\n",
        "\n",
        "####################### TF Datasets for input\n",
        "train_ds = tf.data.Dataset.from_tensor_slices( (x_train, y_train) )\n",
        "test_ds = tf.data.Dataset.from_tensor_slices( (x_test, y_test) )"
      ],
      "execution_count": null,
      "outputs": []
    },
    {
      "cell_type": "code",
      "metadata": {
        "id": "Ljwz1KiYQDa0"
      },
      "source": [
        "x_train = x_train[..., np.newaxis].astype(\"float32\") #was tf.newaxis\n",
        "x_test = x_test[..., np.newaxis].astype(\"float32\")"
      ],
      "execution_count": null,
      "outputs": []
    },
    {
      "cell_type": "markdown",
      "metadata": {
        "id": "-8EHQyWGDvWz"
      },
      "source": [
        "### Define Functions"
      ]
    },
    {
      "cell_type": "code",
      "metadata": {
        "id": "0oj0gTIy4k60",
        "cellView": "form"
      },
      "source": [
        "#@title Display learning curves \n",
        "def plotLearningCurves(history):\n",
        "    acc = history['acc']\n",
        "    val_acc = history['val_acc']\n",
        "\n",
        "    loss = history['loss']\n",
        "    val_loss = history['val_loss']\n",
        "\n",
        "    epochs = range(len(acc))\n",
        "\n",
        "    plt.plot(epochs, acc)\n",
        "    plt.plot(epochs, val_acc)\n",
        "    plt.title('Training and validation accuracy')\n",
        "\n",
        "#plotLearningCurves(history)"
      ],
      "execution_count": null,
      "outputs": []
    },
    {
      "cell_type": "code",
      "metadata": {
        "id": "GzRKiG9XcaCf",
        "cellView": "form"
      },
      "source": [
        "#@title Functions GUESSING() and GET_RESULTS()\n",
        "def guessing(n=1,model=CNN,return_image=False):\n",
        "    answers, guesses, pA, pG = [],[],[],[]\n",
        "    for count in range(n):\n",
        "        take1_ds = test_ds.shuffle(N+1).take(1)\n",
        "        for img, ans in take1_ds:\n",
        "            ans = ans.numpy()\n",
        "            img = img.numpy()                  # eg. 28x56x1\n",
        "        img = img.reshape((1,) + img.shape)    # eg. 1x50x50x1\n",
        "        guess_set = model.predict(img).flatten()\n",
        "        #guess = tf.random.categorical( guess_set, num_samples=1 ).numpy().squeeze()\n",
        "        guess = np.argmax(guess_set)\n",
        "        \n",
        "        answers += [ans]\n",
        "        guesses += [guess]\n",
        "        pG += [guess_set[guess]]\n",
        "        pA += [guess_set[ans]]\n",
        "\n",
        "        print(\"Answer\",ans,\"\\tGuess\",guess, \"\\tp(A)\",round(pA[count],2),\"\\tp(G)\",round(pG[count],2))\n",
        "        if count%10 == 0:\n",
        "            print ('Processing...',count,\"...\")\n",
        "            clear_output(wait=True)\n",
        "\n",
        "    if return_image:\n",
        "        return answers, guesses, pA, pG, img\n",
        "    else:\n",
        "        return answers, guesses, pA, pG\n",
        "\n",
        "def get_results(n=1,m=CNN):\n",
        "    results = pd.DataFrame(columns=['Answer','Guess','P(A)','P(G)'])\n",
        "    results['Answer'], results['Guess'], results['P(A)'], results['P(G)'] = guessing(n, m) \n",
        "    return results"
      ],
      "execution_count": null,
      "outputs": []
    },
    {
      "cell_type": "code",
      "metadata": {
        "id": "_X5txK4fBxPE",
        "cellView": "form"
      },
      "source": [
        "#@title Show layer outputs\n",
        "def show_layers(model, output_model):\n",
        "    # Take random image from the training set.\n",
        "    take1_ds = test_ds.shuffle(10001).take(1)\n",
        "    for img, ans in take1_ds:\n",
        "        img = img.numpy()\n",
        "        ans = ans.numpy()\n",
        "    img = img.reshape((1,) + img.shape)    # np shape (1, 28, 28, 1)\n",
        "    gue = model.predict(img)\n",
        "    print(\"Answer:\",ans, \"\\tGuess:\",np.argmax(gue))\n",
        "    plt.figure(figsize=(3,3))\n",
        "    plt.imshow(img[0,:,:,0], cmap=\"binary_r\")                 # np shape (28, 28)\n",
        "\n",
        "    layer_output_maps = output_model.predict( img )\n",
        "    layer_names = [layer.name for layer in model.layers[1:]]\n",
        "    for layer_name, layer_map in zip(layer_names, layer_output_maps):\n",
        "        if len(layer_map.shape) == 4:# and not 'max_pooling' in layer_name:\n",
        "            n_maps = layer_map.shape[-1]  # number of maps\n",
        "            if n_maps > 10:\n",
        "                n_maps = 10\n",
        "            # Map has shape (1, rows, columns, n_features)\n",
        "            rows = layer_map.shape[1]\n",
        "            cols = layer_map.shape[2]\n",
        "            image_grid = np.zeros((rows, cols * n_maps))\n",
        "            \n",
        "            for i in range(n_maps):\n",
        "                x = layer_map[0, :, :, i]\n",
        "                x *= 255.0\n",
        "                image_grid[:, i * cols : (i + 1) * cols] = x\n",
        "                image_grid[:,i*cols] = 255.\n",
        "                image_grid[:,i*cols+1] = 0.\n",
        "                \n",
        "            scale = 2.           \n",
        "            plt.figure(figsize=(scale * n_maps, scale))\n",
        "            plt.title(layer_name)\n",
        "            plt.grid(False)\n",
        "            plt.imshow(image_grid, cmap='gray')\n",
        " "
      ],
      "execution_count": null,
      "outputs": []
    },
    {
      "cell_type": "code",
      "metadata": {
        "id": "IgVhpl2X29A7"
      },
      "source": [
        "answers, guesses, pA, pG, img = guessing(1, model=minimalNN, return_image=True)\n",
        "print (answers[0], guesses[0])\n",
        "print (pA[0], pG[0])\n",
        "plt.imshow(img[0,:,:,0])"
      ],
      "execution_count": null,
      "outputs": []
    },
    {
      "cell_type": "markdown",
      "metadata": {
        "id": "5oqBkNBJmtUv"
      },
      "source": [
        "# Build models"
      ]
    },
    {
      "cell_type": "code",
      "metadata": {
        "id": "0kvzPo4UUdCd"
      },
      "source": [
        "def train(model, epochs=10, batch_size=batch_size):\n",
        "    history = model.fit(x=x_train,\n",
        "                        y=y_train,\n",
        "                        batch_size=batch_size,\n",
        "                        validation_data=(x_test, y_test),\n",
        "                        epochs=epochs,  \n",
        "                        verbose=1)\n",
        "    return history.history"
      ],
      "execution_count": null,
      "outputs": []
    },
    {
      "cell_type": "markdown",
      "metadata": {
        "id": "dSW51o6pEqRE"
      },
      "source": [
        "##Baseline model"
      ]
    },
    {
      "cell_type": "code",
      "metadata": {
        "id": "Vxf-HizVEpaa"
      },
      "source": [
        "###################### baseline model\n",
        "input_layer = layers.Input(shape=(image_size[0], image_size[1], 1))\n",
        "x = layers.Flatten()(input_layer)\n",
        "output_layer = layers.Dense(100, activation='softmax')(x)#\n",
        "######################### \n",
        "\n",
        "####################### Build\n",
        "minimalNN = Model(input_layer, output_layer, name=\"MinimalNN\")\n",
        "\n",
        "####################### Compile\n",
        "minimalNN.compile(loss=\"sparse_categorical_crossentropy\",\n",
        "              optimizer=Adam(lr=learning_rate),\n",
        "              metrics=['acc'])\n",
        "\n",
        "####################### History containers\n",
        "answers, guesses = [],[]\n",
        "minimalNN.summary()"
      ],
      "execution_count": null,
      "outputs": []
    },
    {
      "cell_type": "code",
      "metadata": {
        "id": "pbhgWwS3XVVP"
      },
      "source": [
        "minimalNN.evaluate(x_test,y_test)"
      ],
      "execution_count": null,
      "outputs": []
    },
    {
      "cell_type": "code",
      "metadata": {
        "id": "8L54eJKRo1HB"
      },
      "source": [
        "minimal_stats = train(minimalNN,epochs=epochs,batch_size=batch_size)"
      ],
      "execution_count": null,
      "outputs": []
    },
    {
      "cell_type": "markdown",
      "metadata": {
        "id": "Jw9adjX4EuqD"
      },
      "source": [
        "##CNN"
      ]
    },
    {
      "cell_type": "code",
      "metadata": {
        "id": "NqkMcZKCpOAa"
      },
      "source": [
        "###################### Build CNN as first model\n",
        "input_layer = layers.Input(shape=(image_size[0], image_size[1], 1))\n",
        "x = layers.Conv2D(20, 2, padding='same', activation='relu')(input_layer)\n",
        "x = layers.AveragePooling2D(2)(x)\n",
        "x = layers.Conv2D(30, 3, activation='relu')(x) \n",
        "x = layers.MaxPooling2D(2)(x)\n",
        "x = layers.Flatten()(x)\n",
        "output_layer = layers.Dense(100, activation='softmax')(x)\n",
        "\n",
        "####################### Build\n",
        "CNN = Model(input_layer, output_layer, name=\"CNN\")\n",
        "\n",
        "####################### Compile\n",
        "CNN.compile(loss=\"sparse_categorical_crossentropy\",\n",
        "            optimizer=Adam(lr=learning_rate),\n",
        "            metrics=['acc'])\n",
        "\n",
        "####################### Layer-outputs model\n",
        "layer_outputs = [layer.output for layer in CNN.layers[1:]]\n",
        "CNN_outputs = Model(input_layer, layer_outputs)\n",
        "\n",
        "####################### History containers\n",
        "answers, guesses = [],[]\n",
        "CNN.summary()"
      ],
      "execution_count": null,
      "outputs": []
    },
    {
      "cell_type": "code",
      "metadata": {
        "id": "Ww45nzkV27wo"
      },
      "source": [
        "for layer in CNN.layers:\n",
        "    #layer.trainable = False\n",
        "    print(layer_name,\":\",layer.trainable)\n",
        "CNN.summary()"
      ],
      "execution_count": null,
      "outputs": []
    },
    {
      "cell_type": "code",
      "metadata": {
        "id": "x5Z5HJay00KX"
      },
      "source": [
        "CNN.evaluate(x_test,y_test)"
      ],
      "execution_count": null,
      "outputs": []
    },
    {
      "cell_type": "code",
      "metadata": {
        "id": "MhO3DoNL0w74"
      },
      "source": [
        "show_layers(CNN, CNN_outputs)"
      ],
      "execution_count": null,
      "outputs": []
    },
    {
      "cell_type": "code",
      "metadata": {
        "id": "I6J4-6PFTL3u"
      },
      "source": [
        "CNN_stats = train(CNN,epochs=1,batch_size=batch_size)"
      ],
      "execution_count": null,
      "outputs": []
    },
    {
      "cell_type": "code",
      "metadata": {
        "id": "mGefd-C-1KtQ"
      },
      "source": [
        "show_layers(CNN, CNN_outputs)"
      ],
      "execution_count": null,
      "outputs": []
    },
    {
      "cell_type": "code",
      "metadata": {
        "id": "aVmiqJ0L30Th"
      },
      "source": [
        "CNN.evaluate(x_test,y_test)"
      ],
      "execution_count": null,
      "outputs": []
    },
    {
      "cell_type": "code",
      "metadata": {
        "id": "m6TY-62wZD-c"
      },
      "source": [
        "predicts = [np.argmax(p) for p in CNN.predict(x_test)]\n",
        "rid = rd.randrange(len(y_test))\n",
        "print (\"Guess:\",predicts[rid], \"Ans:\",y_test[rid])\n",
        "plt.imshow(x_test[rid].reshape((28,56)), cmap=\"gray\")"
      ],
      "execution_count": null,
      "outputs": []
    },
    {
      "cell_type": "markdown",
      "metadata": {
        "id": "dvZ1ITdk8M_A"
      },
      "source": [
        "## Mixed model"
      ]
    },
    {
      "cell_type": "code",
      "metadata": {
        "id": "UkK2bOVgroVO"
      },
      "source": [
        "##################### mixedNN\n",
        "for layer in CNN.layers:\n",
        "    layer.trainable = False\n",
        "    if \"flatten\" in layer.name: out_layer = layer.name\n",
        "\n",
        "x = CNN.get_layer(out_layer).output\n",
        "x = layers.Dense(200, activation='relu')(x)\n",
        "x = layers.Dropout(0.2)(x)\n",
        "new_output_layer = layers.Dense(100, activation='softmax')(x)\n",
        "mixedNN = Model(input_layer, new_output_layer)\n",
        "mixedNN.compile(loss=\"sparse_categorical_crossentropy\",\n",
        "                 optimizer=Adam(lr=learning_rate),\n",
        "                 metrics=['acc'])\n",
        "\n",
        "####################### Layer-outputs for new model\n",
        "new_layer_outputs = [layer.output for layer in mixedNN.layers[1:]]\n",
        "mixed_outputs = Model(input_layer, new_layer_outputs)\n",
        "\n",
        "mixedNN.summary()"
      ],
      "execution_count": null,
      "outputs": []
    },
    {
      "cell_type": "code",
      "metadata": {
        "id": "54scRXv4MOwl"
      },
      "source": [
        "#for layer in CNN.layers:\n",
        "#    layer.trainable = True\n",
        "for layer in mixedNN.layers:\n",
        "    print (layer.name,\":\",layer.trainable)"
      ],
      "execution_count": null,
      "outputs": []
    },
    {
      "cell_type": "code",
      "metadata": {
        "id": "7R9uDlwF4b8i"
      },
      "source": [
        "mixedNN.evaluate(x_test,y_test)"
      ],
      "execution_count": null,
      "outputs": []
    },
    {
      "cell_type": "code",
      "metadata": {
        "id": "23FFl9aLsnSF"
      },
      "source": [
        "############################# Train new_model\n",
        "mixed_stats = train(mixedNN)"
      ],
      "execution_count": null,
      "outputs": []
    },
    {
      "cell_type": "code",
      "metadata": {
        "id": "1jVH5faO7YyI"
      },
      "source": [
        "plotLearningCurves(minimal_stats)"
      ],
      "execution_count": null,
      "outputs": []
    },
    {
      "cell_type": "code",
      "metadata": {
        "id": "ZshZGT3_zj8U"
      },
      "source": [
        "show_layers(mixedNN, mixed_outputs)"
      ],
      "execution_count": null,
      "outputs": []
    },
    {
      "cell_type": "code",
      "metadata": {
        "id": "_dQJos2jAtCQ"
      },
      "source": [
        "results = get_results(100,mixedNN)\n",
        "results"
      ],
      "execution_count": null,
      "outputs": []
    },
    {
      "cell_type": "code",
      "metadata": {
        "id": "Q67V1mIbgKrT"
      },
      "source": [
        "tv = results['Guess'] == results['Answer']\n",
        "wrongs = results.loc[~tv]\n",
        "wrongs.sort_values('Answer')"
      ],
      "execution_count": null,
      "outputs": []
    },
    {
      "cell_type": "markdown",
      "metadata": {
        "id": "plSaSqE970wE"
      },
      "source": [
        "##Build modelX"
      ]
    },
    {
      "cell_type": "code",
      "metadata": {
        "id": "nXYI9P7au7dY"
      },
      "source": [
        "plt.imshow(rd.choice(x_train)[:,:,0])"
      ],
      "execution_count": null,
      "outputs": []
    },
    {
      "cell_type": "code",
      "metadata": {
        "id": "wjbng1RWBt-s"
      },
      "source": [
        "###### BEST MODEL: NN MODEL ########### \n",
        "input_layer = layers.Input(shape=(image_size[0], image_size[1], 1))\n",
        "\n",
        "########################### This works ###########################\n",
        "x = layers.Flatten()(input_layer)\n",
        "x = layers.Dense(300, activation='relu')(x)\n",
        "x = layers.Dropout(0.3)(x)\n",
        "x = layers.Dense(200, activation='relu')(x) \n",
        "x = layers.Dropout(0.2)(x)\n",
        "output_layer = layers.Dense(100, activation='softmax')(x) \n",
        "modelX = Model(input_layer, output_layer)\n",
        "########################### ^^^^^^^^^^ ###########################\n",
        "\n",
        "####################### Compile\n",
        "modelX.compile(loss=\"sparse_categorical_crossentropy\",\n",
        "              optimizer=Adam(lr=learning_rate),\n",
        "              metrics=['acc'])\n",
        "    \n",
        "####################### Layer-outputs model\n",
        "#layer_outputsX = [layer.output for layer in modelX.layers[1:]]\n",
        "#output_modelX = Model(input_layer, layer_outputsX)\n",
        "\n",
        "####################### History containers\n",
        "answersX, guessesX = [],[]\n",
        "\n",
        "####################### Summary\n",
        "modelX.summary()\n",
        "#tf.keras.utils.plot_model(modelX,show_shapes=True)"
      ],
      "execution_count": null,
      "outputs": []
    },
    {
      "cell_type": "code",
      "metadata": {
        "id": "jw-8-L8z3QOA"
      },
      "source": [
        "############################# Train modelX\n",
        "historyX = train(modelX,epochs=1,batch_size=batch_size)"
      ],
      "execution_count": null,
      "outputs": []
    },
    {
      "cell_type": "code",
      "metadata": {
        "id": "E3zNOJnKkfEI"
      },
      "source": [
        "acc = historyX['acc']\n",
        "val_acc = historyX['val_acc']\n",
        "epochs = len(acc)\n",
        "\n",
        "plt.plot(range(epochs), acc)\n",
        "plt.plot(range(epochs), val_acc)\n",
        "plt.title('Training and validation accuracy')"
      ],
      "execution_count": null,
      "outputs": []
    },
    {
      "cell_type": "code",
      "metadata": {
        "id": "MVUEFNqu_88P",
        "cellView": "form"
      },
      "source": [
        "#@title Show layer output from MODELX ..?\n",
        "\n",
        "# Take random image from the training set.\n",
        "take1_ds = test_ds.shuffle(10001).take(1)\n",
        "for img, ans in take1_ds:\n",
        "    img = img.numpy()\n",
        "    ans = ans.numpy()\n",
        "img = img.reshape((1,) + img.shape)    # np shape (1, 28, 28, 1)\n",
        "gue = modelX.predict(img)\n",
        "print(\"Answer:\",ans, \"\\tGuess:\",np.argmax(gue))\n",
        "plt.figure(figsize=(3,3))\n",
        "plt.imshow(img[0,:,:,0])                 # np shape (28, 28)\n",
        "\n",
        "layer_output_maps = output_modelX.predict( img )\n",
        "layer_names = [layer.name for layer in modelX.layers[1:]]\n",
        "for layer_name, layer_map in zip(layer_names, layer_output_maps):\n",
        "    if \"flatten\" in layer_name: \n",
        "        layer_map = layer_map.reshape(1,image_size[0],image_size[1])\n",
        "        n_maps = layer_map.shape[0]  # 1 = number of maps\n",
        "\n",
        "        # Map has shape (1, rows, columns)\n",
        "        #rows = layer_map.shape[1]\n",
        "        #cols = layer_map.shape[2]\n",
        "        #image_grid = np.zeros((rows, cols))\n",
        "        \n",
        "        #for i in range(n_maps):\n",
        "        x = layer_map[0, :, :]\n",
        "        #x *= 255.0\n",
        "        #image_grid[:, cols : 2 * cols] = x\n",
        "            \n",
        "        scale = 2.           \n",
        "        plt.figure(figsize=(scale * n_maps, scale))\n",
        "        plt.title(layer_name)\n",
        "        plt.grid(False)\n",
        "        plt.imshow(x)  #(image_grid, cmap='viridis')"
      ],
      "execution_count": null,
      "outputs": []
    },
    {
      "cell_type": "code",
      "metadata": {
        "id": "7vGOhYiQDrcP"
      },
      "source": [
        "layer_output_maps = output_modelX.predict( img )\n",
        "layer_names = [layer.name for layer in modelX.layers[1:]]\n",
        "for layer_name, layer_map in zip(layer_names, layer_output_maps):\n",
        "    if \"flatten\" in layer_name:#len(layer_map.shape) == 4:# and not 'max_pooling' in layer_name:\n",
        "         layer_map = layer_map.reshape(1,28,56)\n",
        "    print (layer_name, layer_map.shape)"
      ],
      "execution_count": null,
      "outputs": []
    },
    {
      "cell_type": "code",
      "metadata": {
        "id": "NDEsLTrtEoOp"
      },
      "source": [
        "####################### Layer-outputs model\n",
        "#layer_outputsX = [layer.output for layer in modelX.layers[1:]]\n",
        "#output_modelX = Model(input_layer, layer_outputsX)\n",
        "modelX_neurons = output_modelX.variables[0].numpy().T\n",
        "modelX_neurons_df = pd.DataFrame(modelX_neurons)\n",
        "neuronX_df = pd.DataFrame(modelX_neurons[2].reshape((28,56)))\n",
        "#neuronX_df              "
      ],
      "execution_count": null,
      "outputs": []
    },
    {
      "cell_type": "code",
      "metadata": {
        "id": "1rp4wzxeRAPx"
      },
      "source": [
        "plt.imshow(neuronX_df)"
      ],
      "execution_count": null,
      "outputs": []
    },
    {
      "cell_type": "code",
      "metadata": {
        "id": "NUx5J2uuhdbY"
      },
      "source": [
        "nxmin = min(neuronX_df.min())\n",
        "nxmax = max(neuronX_df.max())\n",
        "nxmean = np.mean(neuronX_df.mean())\n",
        "nxstd = np.mean(neuronX_df.std())\n",
        "print (nxmin,nxmax,nxmean,nxstd)\n",
        "print (\"nxmin*255, nxmax*255\", nxmin*255, nxmax*255)\n",
        "\n",
        "#neuronX_df *= 255.\n",
        "neuronX_df += nxstd\n",
        "neuronX_df.clip(0,nxmax)\n",
        "#neuronX_df *= 255\n",
        "\n",
        "plt.imshow(neuronX_df)"
      ],
      "execution_count": null,
      "outputs": []
    },
    {
      "cell_type": "code",
      "metadata": {
        "id": "SKfdiWGfAv6X"
      },
      "source": [
        "modelX.variables[0].shape"
      ],
      "execution_count": null,
      "outputs": []
    },
    {
      "cell_type": "code",
      "metadata": {
        "id": "EVHfQfZIBLaR"
      },
      "source": [
        "variablesX = modelX.variables[0].numpy()\n",
        "(vmin,vmax,vmean,vstd) = (variablesX.min(), variablesX.max(), variablesX.mean(), variablesX.std())\n",
        "(vmin,vmax,vmean,vstd)"
      ],
      "execution_count": null,
      "outputs": []
    },
    {
      "cell_type": "code",
      "metadata": {
        "id": "GIimsIXaXh1V"
      },
      "source": [
        "variablesX = np.clip((variablesX + abs(vstd))*255,0,255)\n",
        "variablesX"
      ],
      "execution_count": null,
      "outputs": []
    },
    {
      "cell_type": "code",
      "metadata": {
        "id": "GbsywoxaP3-y"
      },
      "source": [
        "variables = modelX.variables[0].numpy()\n",
        "num_nodes = variables.shape[1]\n",
        "num_rows = int(math.ceil(num_nodes / 10.0))\n",
        "fig, axes = plt.subplots(num_rows, 10, figsize=(40, 2 * num_rows))\n",
        "for coef, ax in zip(variables.T, axes.ravel()):\n",
        "    # Weights in coef is reshaped from 1x784 to 28x28.\n",
        "    coef = coef\n",
        "    ax.matshow(coef.reshape(image_size), cmap=plt.cm.viridis)\n",
        "    ax.set_xticks(())\n",
        "    ax.set_yticks(())\n",
        "plt.show()"
      ],
      "execution_count": null,
      "outputs": []
    },
    {
      "cell_type": "code",
      "metadata": {
        "id": "u9tfeF6q2r2N"
      },
      "source": [
        "minimal_results = get_results(100, mixedNN)\n",
        "resultsCNN = get_results(100, CNN)\n",
        "resultsX = get_results(100, modelX)\n",
        "#resultsX"
      ],
      "execution_count": null,
      "outputs": []
    },
    {
      "cell_type": "code",
      "metadata": {
        "id": "gJ98wKTVy3xR"
      },
      "source": [
        "plt.scatter(minimal_results['Guess'],minimal_results['Answer'])\n",
        "plt.scatter(resultsCNN['Guess'],resultsCNN['Answer'])\n",
        "plt.scatter(resultsX['Guess'],resultsX['Answer'])"
      ],
      "execution_count": null,
      "outputs": []
    },
    {
      "cell_type": "code",
      "metadata": {
        "id": "tfPbuESofFCB"
      },
      "source": [
        "tvX = resultsX['Guess'] == resultsX['Answer']\n",
        "wrongsX = resultsX.loc[~tvX]\n",
        "wrongsX.sort_values('Answer')"
      ],
      "execution_count": null,
      "outputs": []
    },
    {
      "cell_type": "code",
      "metadata": {
        "id": "3pTxgNlzfW2H"
      },
      "source": [
        "# \"one shot iterator\"\n",
        "answers, guesses, pA, pG, img = guessing(1, model=modelX, return_image=True)\n",
        "print (\"Label:\", answers[0], \"\\tPredict:\", guesses[0])\n",
        "print (\"pLabel =\",pA[0], \"\\tpPredict = \", pG[0])\n",
        "plt.imshow(img[0,:,:,0],cmap=\"gray\")"
      ],
      "execution_count": null,
      "outputs": []
    },
    {
      "cell_type": "code",
      "metadata": {
        "id": "vSHokwPXVLdU"
      },
      "source": [
        "def showWeights():\n",
        "    weights0 = modelX.weights[0].numpy()\n",
        "    num_nodes = weights0.shape[1]\n",
        "    num_rows = int(math.ceil(num_nodes / 10.0))\n",
        "    fig, axes = plt.subplots(num_rows, 10, figsize=(40, 2 * num_rows))\n",
        "    for coef, ax in zip(weights0.T, axes.ravel()):\n",
        "        # Weights in coef is reshaped from 1x784 to 28x28.\n",
        "        ax.matshow(coef.reshape(image_size), cmap=plt.cm.bone)\n",
        "        ax.set_xticks(())\n",
        "        ax.set_yticks(())\n",
        "    plt.show()"
      ],
      "execution_count": null,
      "outputs": []
    },
    {
      "cell_type": "code",
      "metadata": {
        "id": "pYGDEzmOqT9B"
      },
      "source": [
        "showWeights()"
      ],
      "execution_count": null,
      "outputs": []
    }
  ]
}