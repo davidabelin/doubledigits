{
  "nbformat": 4,
  "nbformat_minor": 0,
  "metadata": {
    "accelerator": "GPU",
    "colab": {
      "name": "minimal_convolution_double_digits.ipynb",
      "provenance": [],
      "collapsed_sections": [
        "qfja9tMaB1ZH"
      ],
      "machine_shape": "hm"
    },
    "kernelspec": {
      "display_name": "Python 3",
      "name": "python3"
    }
  },
  "cells": [
    {
      "cell_type": "markdown",
      "metadata": {
        "id": "qfja9tMaB1ZH"
      },
      "source": [
        "#### Copyright 2018 Google LLC."
      ]
    },
    {
      "cell_type": "code",
      "metadata": {
        "id": "TkNQqjZaB4_u"
      },
      "source": [
        "# Licensed under the Apache License, Version 2.0 (the \"License\");\n",
        "# you may not use this file except in compliance with the License.\n",
        "# You may obtain a copy of the License at\n",
        "#\n",
        "# https://www.apache.org/licenses/LICENSE-2.0\n",
        "#\n",
        "# Unless required by applicable law or agreed to in writing, software\n",
        "# distributed under the License is distributed on an \"AS IS\" BASIS,\n",
        "# WITHOUT WARRANTIES OR CONDITIONS OF ANY KIND, either express or implied.\n",
        "# See the License for the specific language governing permissions and\n",
        "# limitations under the License."
      ],
      "execution_count": null,
      "outputs": []
    },
    {
      "cell_type": "markdown",
      "metadata": {
        "id": "YHK6DyunSbs4"
      },
      "source": [
        "# Handwritten Digit Classification"
      ]
    },
    {
      "cell_type": "code",
      "metadata": {
        "id": "PLy3pthUS0D2",
        "cellView": "both"
      },
      "source": [
        "#@title IMPORTS\n",
        "%matplotlib inline\n",
        "import matplotlib.pyplot as plt\n",
        "import matplotlib.image as mpimg\n",
        "import seaborn as sbn\n",
        "\n",
        "import zipfile\n",
        "import random as rd\n",
        "import numpy as np\n",
        "import pandas as pd\n",
        "import os, signal\n",
        "from IPython.display import clear_output\n",
        "def clear(): clear_output()\n",
        "\n",
        "import tensorflow as tf\n",
        "from tensorflow.keras import layers\n",
        "from tensorflow.keras import Model\n",
        "#from tensorflow.keras.preprocessing.image import img_to_array, load_img\n",
        "#from tensorflow.keras.preprocessing.image import ImageDataGenerator\n",
        "from tensorflow.keras.layers import Dense, Flatten, Conv2D, MaxPooling2D, InputLayer, Input\n",
        "from tensorflow.keras.optimizers import RMSprop\n",
        "from tensorflow.keras.optimizers import Adam"
      ],
      "execution_count": null,
      "outputs": []
    },
    {
      "cell_type": "markdown",
      "metadata": {
        "id": "yb99wQJzCCk6"
      },
      "source": [
        "### **--------- TO DO ------------**\n",
        "\n",
        "*   *Collect the output of last conv layer into ds with answer and guess keys.*\n",
        "\n",
        "*   Fix \"find wrong guesses\"\n",
        "*   Collect and display output from just the NN layers.\n",
        "\n"
      ]
    },
    {
      "cell_type": "markdown",
      "metadata": {
        "id": "UY6KJV6z6l7_"
      },
      "source": [
        "## Examine the Data"
      ]
    },
    {
      "cell_type": "code",
      "metadata": {
        "id": "u8Y3AFF5pgJZ",
        "outputId": "e730cd67-21d6-4d3d-bdb6-48ef4165fe05",
        "colab": {
          "base_uri": "https://localhost:8080/",
          "height": 34
        }
      },
      "source": [
        "#Load\n",
        "mnist = tf.keras.datasets.mnist\n",
        "(imgs_train, ans_train), (imgs_test, ans_test) = mnist.load_data()\n",
        "\n",
        "# Scale\n",
        "#x_train, x_test = x_train / 255.0, x_test / 255.0\n",
        "\n",
        "\n",
        "# Knobs\n",
        "nrows = 2\n",
        "ncols = 5\n",
        "pindex = 0\n",
        "N = 10\n",
        "\n",
        "# Data\n",
        "imgs_train.shape, imgs_test.shape"
      ],
      "execution_count": null,
      "outputs": [
        {
          "output_type": "execute_result",
          "data": {
            "text/plain": [
              "((60000, 28, 28), (10000, 28, 28))"
            ]
          },
          "metadata": {
            "tags": []
          },
          "execution_count": 109
        }
      ]
    },
    {
      "cell_type": "code",
      "metadata": {
        "id": "Gf0G6g1aAKhM",
        "outputId": "c85022b4-b39d-48e7-9f9f-a123f96cb969",
        "colab": {
          "base_uri": "https://localhost:8080/",
          "height": 250
        }
      },
      "source": [
        "    im = np.zeros((28,56))\n",
        "    tens_index = rd.randint(0,len(ans_train)-1)   \n",
        "    ones_index = rd.randint(0,len(ans_train)-1) \n",
        "    for i in range(28):\n",
        "        im[:,i] = imgs_train[tens_index,:,i]\n",
        "        im[:,i+28] = imgs_train[ones_index,:,i]\n",
        "    answer = ans_train[tens_index]*10 + ans_train[ones_index]\n",
        "    print (\"Answer =\", ans_train[tens_index],\"* 10 +\",ans_train[ones_index],\"=\",answer)\n",
        "    plt.imshow(im)"
      ],
      "execution_count": null,
      "outputs": [
        {
          "output_type": "stream",
          "text": [
            "Answer = 9 * 10 + 4 = 94\n"
          ],
          "name": "stdout"
        },
        {
          "output_type": "execute_result",
          "data": {
            "text/plain": [
              "<matplotlib.image.AxesImage at 0x7fd180e56358>"
            ]
          },
          "metadata": {
            "tags": []
          },
          "execution_count": 110
        },
        {
          "output_type": "display_data",
          "data": {
            "image/png": "[encoded data removed]",
            "text/plain": [
              "<Figure size 432x288 with 1 Axes>"
            ]
          },
          "metadata": {
            "tags": [],
            "needs_background": "light"
          }
        }
      ]
    },
    {
      "cell_type": "code",
      "metadata": {
        "id": "6X6jzIZm1vDZ",
        "cellView": "both",
        "outputId": "f849c23a-0185-4c1b-c8ac-d55aa36b7cd9",
        "colab": {
          "base_uri": "https://localhost:8080/",
          "height": 284
        }
      },
      "source": [
        "def doubleDigits(images=imgs_train,answers=ans_train):\n",
        "    im = np.zeros((28,56))\n",
        "    tens_index = rd.randint(0,len(answers)-1)  # HERE IS WHERE THE \n",
        "    ones_index = rd.randint(0,len(answers)-1)             # RANDOM NUMS COME FROM\n",
        "    for i in range(28):\n",
        "        im[:,i] = images[tens_index,:,i]\n",
        "        im[:,i+28] = images[ones_index,:,i]\n",
        "    answer = answers[tens_index]*10 + answers[ones_index] #CALCULATE THE RIGHT\n",
        "    return im, answer                         #ANSWER NUMERICALLY                \n",
        "    #returns image array, list of answers\n",
        "print(\"Loaded function doubleDigits.\")\n",
        "\n",
        "# THIS FUNCTION WILL BE CALLED TO GENERATE A NEW \n",
        "# TRAINING SET OF RANDOM DOUBLE-DIGIT IMAGES TO WORK WITH\n",
        "\n",
        "def getDoubleDigits(x_df=imgs_train,y_df=ans_train,how_many=1):\n",
        "    '''\n",
        "        Get a trainable set of how_many double-digit images. \n",
        "        Returns two objects:\n",
        "            - xdf, an array with how_many 28x56 images (ie. of shape(how_many,28,56)),\n",
        "            - ydf, a 1D array with the corresponding labels (shape(how_many,1))\n",
        "    '''\n",
        "    yy = []\n",
        "    xx = []\n",
        "    for i in range(how_many):\n",
        "        dd, ans = doubleDigits(x_df,y_df)\n",
        "        yy += [ans]\n",
        "        xx.append(dd)\n",
        "        if i%1000 == 0:\n",
        "            clear()\n",
        "            print(i,\"...\")\n",
        "    return xx, yy\n",
        "\n",
        "print(\"Loaded function getDoubleDigits.\")\n",
        "\n",
        "# AND FINALLY CALL FUNCTION gDD TO SHOW AN EXAMPLE OF A \n",
        "# CONSTRUCTED IMAGE AND ANSWER TO MAKE SURE IT LOOKS OK\n",
        "xdf, ydf = getDoubleDigits(imgs_test,ans_test)\n",
        "print('~Random example~')\n",
        "print('Answer:',ydf[0])\n",
        "plt.imshow(xdf[0])"
      ],
      "execution_count": null,
      "outputs": [
        {
          "output_type": "stream",
          "text": [
            "0 ...\n",
            "~Random example~\n",
            "Answer: 52\n"
          ],
          "name": "stdout"
        },
        {
          "output_type": "execute_result",
          "data": {
            "text/plain": [
              "<matplotlib.image.AxesImage at 0x7fd180af1710>"
            ]
          },
          "metadata": {
            "tags": []
          },
          "execution_count": 111
        },
        {
          "output_type": "display_data",
          "data": {
            "image/png": "[encoded data removed]",
            "text/plain": [
              "<Figure size 432x288 with 1 Axes>"
            ]
          },
          "metadata": {
            "tags": [],
            "needs_background": "light"
          }
        }
      ]
    },
    {
      "cell_type": "code",
      "metadata": {
        "id": "4YQljE-wizDw",
        "outputId": "f7052925-53ce-4be9-df34-95ac7569c6ed",
        "colab": {
          "base_uri": "https://localhost:8080/",
          "height": 51
        }
      },
      "source": [
        "xts, yts = getDoubleDigits(imgs_test,ans_test,4000)\n",
        "x_test = np.array(xts) / 255.\n",
        "y_test = np.array(yts)\n",
        "print(\"Made\",4000,\"new double-digit images to test on.\")\n",
        "\n",
        "xtn, ytn = getDoubleDigits(imgs_train,ans_train,40000)\n",
        "x_train = np.array(xtn) / 255.\n",
        "y_train = np.array(ytn)\n",
        "print(\"Made\",40000,\"new double-digit images to train on.\")"
      ],
      "execution_count": null,
      "outputs": [
        {
          "output_type": "stream",
          "text": [
            "39000 ...\n",
            "Made 40000 new double-digit images to train on.\n"
          ],
          "name": "stdout"
        }
      ]
    },
    {
      "cell_type": "code",
      "metadata": {
        "id": "0lAvqbmnEZhD"
      },
      "source": [
        "# Add a channels dimension\n",
        "x_train = x_train[..., tf.newaxis].astype(\"float32\")\n",
        "x_test = x_test[..., tf.newaxis].astype(\"float32\")"
      ],
      "execution_count": null,
      "outputs": []
    },
    {
      "cell_type": "markdown",
      "metadata": {
        "id": "5oqBkNBJmtUv"
      },
      "source": [
        "## Building a Minimalist Convnet"
      ]
    },
    {
      "cell_type": "code",
      "metadata": {
        "id": "a3sLSlJuHExE"
      },
      "source": [
        "###################### Stack Model Layers\n",
        "##########################################\n",
        "def stack_new_model():\n",
        "    input_layer = layers.Input(shape=(28, 56, 1))\n",
        "    x = layers.Conv2D(4, 6, activation='relu')(input_layer)\n",
        "    x = layers.MaxPooling2D(2)(x)\n",
        "    x = layers.Conv2D(3, 3, activation='relu', strides=(2))(x) \n",
        "    x = layers.Conv2D(1, 3, activation='relu', strides=(2))(x) \n",
        "    #x = layers.Conv2D(1, 2, activation='relu', strides=(1))(x) \n",
        "    #x = layers.MaxPooling2D(2)(x)\n",
        "    x = layers.Flatten()(x)\n",
        "    x = layers.Dense(12, activation='relu')(x)  ### how few ?! ####\n",
        "    x = layers.Dropout(0.1)(x)\n",
        "    output_layer = layers.Dense(100)(x)#, activation='softmax')(x)\n",
        "    model = Model(input_layer, output_layer)\n",
        "    ############################## Compile\n",
        "    model.compile(loss=tf.keras.losses.SparseCategoricalCrossentropy(from_logits=True),\n",
        "                                                            optimizer=Adam(lr=0.0075),\n",
        "                                                            metrics=['acc'])\n",
        "    return model, ([], [], [], []) # new set each new _compile_"
      ],
      "execution_count": null,
      "outputs": []
    },
    {
      "cell_type": "code",
      "metadata": {
        "id": "NqkMcZKCpOAa"
      },
      "source": [
        "####################### TF Datasets for input\n",
        "\n",
        "train_ds = tf.data.Dataset.from_tensor_slices( (x_train, y_train) )\n",
        "test_ds = tf.data.Dataset.from_tensor_slices( (x_test, y_test) )\n",
        "\n",
        "###################### Stack Layers\n",
        "input_layer = layers.Input(shape=(28, 56, 1))\n",
        "x = layers.Conv2D(2, (3,4), activation='relu')(input_layer)\n",
        "x = layers.MaxPooling2D(2)(x)\n",
        "#x = layers.Conv2D(3, (2,3), activation='relu')(x) \n",
        "#x = layers.MaxPooling2D(2)(x)\n",
        "#x = layers.Conv2D(5, (2,3), activation='relu')(x) # ,strides=(2))(x) \n",
        "x = layers.Flatten()(x)\n",
        "#x = layers.Dense(10, activation='relu')(x) \n",
        "x = layers.Dropout(0.25)(x)\n",
        "output_layer = layers.Dense(100)(x)#, activation='softmax')(x)\n",
        "\n",
        "####################### Build\n",
        "model = Model(input_layer, output_layer)\n",
        "\n",
        "####################### Compile\n",
        "model.compile(loss=tf.keras.losses.SparseCategoricalCrossentropy(from_logits=True),\n",
        "                optimizer=Adam(lr=0.0075),\n",
        "                metrics=['acc'])\n",
        "####################### Layer-outputs model\n",
        "layer_outputs = [layer.output for layer in model.layers[1:]]\n",
        "output_model = Model(input_layer, layer_outputs)\n",
        "\n",
        "####################### History containers\n",
        "answers, guesses = [],[]#, max_guesses, flatout = [],[],[],np.zeros((N,4))"
      ],
      "execution_count": null,
      "outputs": []
    },
    {
      "cell_type": "code",
      "metadata": {
        "id": "y0TV7ZFwrK8j",
        "outputId": "75b953d4-b54d-47ec-9fb3-968a6304ebf0",
        "colab": {
          "base_uri": "https://localhost:8080/",
          "height": 357
        }
      },
      "source": [
        "model.summary()"
      ],
      "execution_count": null,
      "outputs": [
        {
          "output_type": "stream",
          "text": [
            "Model: \"functional_65\"\n",
            "_________________________________________________________________\n",
            "Layer (type)                 Output Shape              Param #   \n",
            "=================================================================\n",
            "input_17 (InputLayer)        [(None, 28, 56, 1)]       0         \n",
            "_________________________________________________________________\n",
            "conv2d_41 (Conv2D)           (None, 26, 53, 2)         26        \n",
            "_________________________________________________________________\n",
            "max_pooling2d_29 (MaxPooling (None, 13, 26, 2)         0         \n",
            "_________________________________________________________________\n",
            "flatten_16 (Flatten)         (None, 676)               0         \n",
            "_________________________________________________________________\n",
            "dropout_13 (Dropout)         (None, 676)               0         \n",
            "_________________________________________________________________\n",
            "dense_29 (Dense)             (None, 100)               67700     \n",
            "=================================================================\n",
            "Total params: 67,726\n",
            "Trainable params: 67,726\n",
            "Non-trainable params: 0\n",
            "_________________________________________________________________\n"
          ],
          "name": "stdout"
        }
      ]
    },
    {
      "cell_type": "markdown",
      "metadata": {
        "id": "mu3Jdwkjwax4"
      },
      "source": [
        "### Training / Loading and reloading"
      ]
    },
    {
      "cell_type": "code",
      "metadata": {
        "id": "Fb1_lgobv81m"
      },
      "source": [
        "############################# Train\n",
        "mhistory = model.fit(train_ds.shuffle(40001).batch(40), \n",
        "                        epochs=15,  \n",
        "                        validation_data=test_ds.batch(100), \n",
        "                        verbose=1)"
      ],
      "execution_count": null,
      "outputs": []
    },
    {
      "cell_type": "code",
      "metadata": {
        "id": "pVOENw5KiuGs"
      },
      "source": [
        "################ Save / Load weights and ckpts\n",
        "###model.load_weights('VCD_weights/VCD_weights')\n",
        "###model.save_weights('VCD_weights/VCD_weights')"
      ],
      "execution_count": null,
      "outputs": []
    },
    {
      "cell_type": "code",
      "metadata": {
        "id": "g4gE04C_OUxe",
        "cellView": "form"
      },
      "source": [
        "#@title Defunct\n",
        "def mg():\n",
        "    layer_outputs = [layer.output for layer in model.layers[1:]]\n",
        "    output_model = Model(input_layer, layer_outputs)\n",
        "\n",
        "    # Take random image from the training set.\n",
        "    take1_ds = test_ds.shuffle(10001).take(1)\n",
        "    for img, ans in take1_ds:\n",
        "        answer = ans.numpy()\n",
        "        img = img.numpy()                  # np shape (28, 28, 1)\n",
        "    img = img.reshape((1,) + img.shape)    # np shape (1, 28, 28, 1)\n",
        "    guess_set = model.predict(img)\n",
        "    guess = tf.random.categorical( guess_set, num_samples=1 ).numpy().squeeze()\n",
        "\n",
        "    answers += [answer]\n",
        "    guesses += [guess]\n",
        "    print (\"Answer:\",answer, \"\\tGuess:\", guess,)\n",
        "    #plt.imshow( img[0,:,:,0] )\n",
        "\n",
        "    layer_output_maps = output_model.predict( img )\n",
        "    layer_names = [layer.name for layer in model.layers[1:]]\n",
        "    for layer_name, layer_map in zip(layer_names, layer_output_maps):\n",
        "        if len(layer_map.shape) == 4 and not 'max_pooling' in layer_name:\n",
        "            n_maps = layer_map.shape[-1]  # number of maps\n",
        "            # Map has shape (1, size, size, n_features)\n",
        "            rows = layer_map.shape[1]\n",
        "            cols = layer_map.shape[2]\n",
        "            image_grid = np.zeros((rows, cols * n_maps))\n",
        "            for i in range(n_maps):\n",
        "                x = layer_map[0, :, :, i]\n",
        "                x *= 255.0\n",
        "                image_grid[:, i * rows : (i + 1) * cols] = x\n",
        "        \n",
        "            # Display the grid\n",
        "            scale = 2.           \n",
        "            plt.figure(figsize=(scale * n_maps, scale))\n",
        "            plt.title(layer_name)\n",
        "            plt.grid(False)\n",
        "            plt.imshow(image_grid, aspect='auto', cmap='viridis')\n",
        "        else:\n",
        "            if 'flatten' in layer_name:   \n",
        "                print(\"Out from flatten:\", np.round(layer_map.squeeze(),2))\n",
        "                flatout += [layer_map.squeeze()]"
      ],
      "execution_count": null,
      "outputs": []
    },
    {
      "cell_type": "markdown",
      "metadata": {
        "id": "-8EHQyWGDvWz"
      },
      "source": [
        "### Visualizing Intermediate Representations\n"
      ]
    },
    {
      "cell_type": "code",
      "metadata": {
        "id": "oP5AH28uewTP",
        "cellView": "form"
      },
      "source": [
        "#@title Function GUESSING()\n",
        "def guessing(N=1):\n",
        "    answers, guesses = [],[]\n",
        "    print ('Processing...\\n')\n",
        "    for count in range(N):\n",
        "        take1_ds = test_ds.shuffle(10001).take(1)\n",
        "        for img, ans in take1_ds:\n",
        "            answer = ans.numpy()\n",
        "            img = img.numpy()                  # 28x56x1\n",
        "        img = img.reshape((1,) + img.shape)    # 1x28x56x1\n",
        "        guess_set = model.predict(img)\n",
        "        guess = tf.random.categorical( guess_set, num_samples=1 ).numpy().squeeze()\n",
        "\n",
        "        answers += [answer]\n",
        "        guesses += [guess]\n",
        "        #pG += [guess_set[guess]]\n",
        "        #pA += [guess_set[answer]]\n",
        "        #print(\"Answer\",answer,\"\\tGuess\",guess)#, \"\\tp(A)\",pA,\"\\tp(G)\",pG)\n",
        "       \n",
        "        if count%20 == 0:\n",
        "            print ('Processing...',count,\"...\")\n",
        "            clear_output(wait=True)\n",
        "\n",
        "    return answers, guesses#, pA, pG"
      ],
      "execution_count": null,
      "outputs": []
    },
    {
      "cell_type": "code",
      "metadata": {
        "id": "nfs9TGQErDm0",
        "cellView": "form"
      },
      "source": [
        "#@title Define fxn showOutput()\n",
        "def showOutput(img, model=output_model):\n",
        "    plt.imshow(img[:,:,0])\n",
        "    layer_output_maps = model.predict( img )\n",
        "    layer_names = [layer.name for layer in model.layers[1:]]\n",
        "    for layer_name, layer_map in zip(layer_names, layer_output_maps):\n",
        "        if len(layer_map.shape) == 4 and not 'max_pooling' in layer_name:\n",
        "            n_maps = layer_map.shape[3] \n",
        "            # Map has shape (1, size, size, n_maps)\n",
        "            rows = layer_map.shape[1]\n",
        "            cols = layer_map.shape[2]\n",
        "            image_grid = np.zeros((rows, cols * n_maps))\n",
        "            for i in range(n_maps):\n",
        "                x = layer_map[0, :, :, i]\n",
        "                x *= 255.0\n",
        "                image_grid[:, i * cols : (i + 1) * cols] = x\n",
        "                image_grid[:,i*cols] = 255\n",
        "                image_grid[:,i*cols+1] = 128\n",
        "            scale = 2.           \n",
        "            plt.figure(figsize=(scale * n_maps, scale))\n",
        "            plt.title(layer_name)\n",
        "            plt.grid(False)\n",
        "            plt.imshow(image_grid, aspect='auto', cmap='viridis')"
      ],
      "execution_count": null,
      "outputs": []
    },
    {
      "cell_type": "code",
      "metadata": {
        "id": "gQdsr9ZFrPGM",
        "cellView": "form"
      },
      "source": [
        "#@title Function GET_RESULTS()\n",
        "def get_results(N):\n",
        "    results = pd.DataFrame(columns=['Answer','Guess'])#,'P(A)','P(G)'])\n",
        "    results['Answer'], results['Guess'] = guessing(N) #, results['P(A)'], results['P(G)'] \n",
        "    return results"
      ],
      "execution_count": null,
      "outputs": []
    },
    {
      "cell_type": "code",
      "metadata": {
        "id": "_dQJos2jAtCQ",
        "outputId": "84ad6cd8-64c0-4ef9-804b-6cc90e158e5a",
        "colab": {
          "base_uri": "https://localhost:8080/",
          "height": 419
        }
      },
      "source": [
        "results = get_results(100)\n",
        "results"
      ],
      "execution_count": null,
      "outputs": [
        {
          "output_type": "execute_result",
          "data": {
            "text/html": [
              "<div>\n",
              "<style scoped>\n",
              "    .dataframe tbody tr th:only-of-type {\n",
              "        vertical-align: middle;\n",
              "    }\n",
              "\n",
              "    .dataframe tbody tr th {\n",
              "        vertical-align: top;\n",
              "    }\n",
              "\n",
              "    .dataframe thead th {\n",
              "        text-align: right;\n",
              "    }\n",
              "</style>\n",
              "<table border=\"1\" class=\"dataframe\">\n",
              "  <thead>\n",
              "    <tr style=\"text-align: right;\">\n",
              "      <th></th>\n",
              "      <th>Answer</th>\n",
              "      <th>Guess</th>\n",
              "    </tr>\n",
              "  </thead>\n",
              "  <tbody>\n",
              "    <tr>\n",
              "      <th>0</th>\n",
              "      <td>35</td>\n",
              "      <td>35</td>\n",
              "    </tr>\n",
              "    <tr>\n",
              "      <th>1</th>\n",
              "      <td>41</td>\n",
              "      <td>41</td>\n",
              "    </tr>\n",
              "    <tr>\n",
              "      <th>2</th>\n",
              "      <td>51</td>\n",
              "      <td>51</td>\n",
              "    </tr>\n",
              "    <tr>\n",
              "      <th>3</th>\n",
              "      <td>50</td>\n",
              "      <td>50</td>\n",
              "    </tr>\n",
              "    <tr>\n",
              "      <th>4</th>\n",
              "      <td>25</td>\n",
              "      <td>25</td>\n",
              "    </tr>\n",
              "    <tr>\n",
              "      <th>...</th>\n",
              "      <td>...</td>\n",
              "      <td>...</td>\n",
              "    </tr>\n",
              "    <tr>\n",
              "      <th>95</th>\n",
              "      <td>61</td>\n",
              "      <td>61</td>\n",
              "    </tr>\n",
              "    <tr>\n",
              "      <th>96</th>\n",
              "      <td>77</td>\n",
              "      <td>77</td>\n",
              "    </tr>\n",
              "    <tr>\n",
              "      <th>97</th>\n",
              "      <td>92</td>\n",
              "      <td>90</td>\n",
              "    </tr>\n",
              "    <tr>\n",
              "      <th>98</th>\n",
              "      <td>66</td>\n",
              "      <td>66</td>\n",
              "    </tr>\n",
              "    <tr>\n",
              "      <th>99</th>\n",
              "      <td>88</td>\n",
              "      <td>88</td>\n",
              "    </tr>\n",
              "  </tbody>\n",
              "</table>\n",
              "<p>100 rows × 2 columns</p>\n",
              "</div>"
            ],
            "text/plain": [
              "    Answer Guess\n",
              "0       35    35\n",
              "1       41    41\n",
              "2       51    51\n",
              "3       50    50\n",
              "4       25    25\n",
              "..     ...   ...\n",
              "95      61    61\n",
              "96      77    77\n",
              "97      92    90\n",
              "98      66    66\n",
              "99      88    88\n",
              "\n",
              "[100 rows x 2 columns]"
            ]
          },
          "metadata": {
            "tags": []
          },
          "execution_count": 219
        }
      ]
    },
    {
      "cell_type": "code",
      "metadata": {
        "id": "Ve_q8qGoCFUu"
      },
      "source": [
        "#showOutput()"
      ],
      "execution_count": null,
      "outputs": []
    },
    {
      "cell_type": "code",
      "metadata": {
        "id": "uqgpg-yl2tOh",
        "cellView": "form",
        "outputId": "5f9390f5-a2b1-46fd-9ba2-3d686492b8db",
        "colab": {
          "base_uri": "https://localhost:8080/",
          "height": 236
        }
      },
      "source": [
        "#@title Show layer output...\n",
        "\n",
        "# Take random image from the training set.\n",
        "take1_ds = test_ds.shuffle(10001).take(1)\n",
        "for img, ans in take1_ds:\n",
        "    img = img.numpy() \n",
        "plt.figure(figsize=(3,3))\n",
        "plt.imshow(img[:,:,0])                 # np shape (28, 28, 1)\n",
        "img = img.reshape((1,) + img.shape)    # np shape (1, 28, 28, 1)\n",
        "\n",
        "layer_output_maps = output_model.predict( img )\n",
        "layer_names = [layer.name for layer in model.layers[1:]]\n",
        "for layer_name, layer_map in zip(layer_names, layer_output_maps):\n",
        "    if len(layer_map.shape) == 4 and not 'max_pooling' in layer_name:\n",
        "        n_maps = layer_map.shape[-1]  # number of maps\n",
        "        # Map has shape (1, rows, columns, n_features)\n",
        "        rows = layer_map.shape[1]\n",
        "        cols = layer_map.shape[2]\n",
        "        image_grid = np.zeros((rows, cols * n_maps))\n",
        "        \n",
        "        for i in range(n_maps):\n",
        "            x = layer_map[0, :, :, i]\n",
        "            x *= 255.0\n",
        "            image_grid[:, i * cols : (i + 1) * cols] = x\n",
        "            image_grid[:,i*cols] = 255.\n",
        "            image_grid[:,i*cols+1] = 0.\n",
        "            \n",
        "        scale = 2.           \n",
        "        plt.figure(figsize=(scale * n_maps, scale))\n",
        "        plt.title(layer_name)\n",
        "        plt.grid(False)\n",
        "        plt.imshow(image_grid, cmap='viridis')\n",
        " "
      ],
      "execution_count": null,
      "outputs": [
        {
          "output_type": "display_data",
          "data": {
            "image/png": "[encoded data removed]",
            "text/plain": [
              "<Figure size 216x216 with 1 Axes>"
            ]
          },
          "metadata": {
            "tags": [],
            "needs_background": "light"
          }
        },
        {
          "output_type": "display_data",
          "data": {
            "image/png": "[encoded data removed]",
            "text/plain": [
              "<Figure size 288x144 with 1 Axes>"
            ]
          },
          "metadata": {
            "tags": [],
            "needs_background": "light"
          }
        }
      ]
    },
    {
      "cell_type": "code",
      "metadata": {
        "id": "i-MZye-l2bZM"
      },
      "source": [
        "n = 10\n",
        "for i, c in enumerate(['Answer','Guess']):\n",
        "    x = list(range(i,n+i))\n",
        "    x = [(xx + i*0.05) for xx in x]\n",
        "    y = results[c][:n]\n",
        "    plt.bar(x, y)"
      ],
      "execution_count": null,
      "outputs": []
    },
    {
      "cell_type": "markdown",
      "metadata": {
        "id": "ql_FDtDXoNib"
      },
      "source": [
        "### Get answers and compare with predictions."
      ]
    },
    {
      "cell_type": "code",
      "metadata": {
        "id": "Q67V1mIbgKrT",
        "outputId": "7886522c-bf47-40b7-952d-9aac194b2711",
        "colab": {
          "base_uri": "https://localhost:8080/",
          "height": 514
        }
      },
      "source": [
        "tv = results['Guess'] == results['Answer']\n",
        "wrongs = results.loc[~tv]\n",
        "wrongs"
      ],
      "execution_count": null,
      "outputs": [
        {
          "output_type": "execute_result",
          "data": {
            "text/html": [
              "<div>\n",
              "<style scoped>\n",
              "    .dataframe tbody tr th:only-of-type {\n",
              "        vertical-align: middle;\n",
              "    }\n",
              "\n",
              "    .dataframe tbody tr th {\n",
              "        vertical-align: top;\n",
              "    }\n",
              "\n",
              "    .dataframe thead th {\n",
              "        text-align: right;\n",
              "    }\n",
              "</style>\n",
              "<table border=\"1\" class=\"dataframe\">\n",
              "  <thead>\n",
              "    <tr style=\"text-align: right;\">\n",
              "      <th></th>\n",
              "      <th>Answer</th>\n",
              "      <th>Guess</th>\n",
              "    </tr>\n",
              "  </thead>\n",
              "  <tbody>\n",
              "    <tr>\n",
              "      <th>10</th>\n",
              "      <td>22</td>\n",
              "      <td>28</td>\n",
              "    </tr>\n",
              "    <tr>\n",
              "      <th>13</th>\n",
              "      <td>97</td>\n",
              "      <td>37</td>\n",
              "    </tr>\n",
              "    <tr>\n",
              "      <th>19</th>\n",
              "      <td>2</td>\n",
              "      <td>8</td>\n",
              "    </tr>\n",
              "    <tr>\n",
              "      <th>21</th>\n",
              "      <td>8</td>\n",
              "      <td>2</td>\n",
              "    </tr>\n",
              "    <tr>\n",
              "      <th>34</th>\n",
              "      <td>18</td>\n",
              "      <td>17</td>\n",
              "    </tr>\n",
              "    <tr>\n",
              "      <th>42</th>\n",
              "      <td>92</td>\n",
              "      <td>72</td>\n",
              "    </tr>\n",
              "    <tr>\n",
              "      <th>45</th>\n",
              "      <td>22</td>\n",
              "      <td>12</td>\n",
              "    </tr>\n",
              "    <tr>\n",
              "      <th>47</th>\n",
              "      <td>9</td>\n",
              "      <td>69</td>\n",
              "    </tr>\n",
              "    <tr>\n",
              "      <th>58</th>\n",
              "      <td>33</td>\n",
              "      <td>53</td>\n",
              "    </tr>\n",
              "    <tr>\n",
              "      <th>59</th>\n",
              "      <td>21</td>\n",
              "      <td>31</td>\n",
              "    </tr>\n",
              "    <tr>\n",
              "      <th>73</th>\n",
              "      <td>97</td>\n",
              "      <td>37</td>\n",
              "    </tr>\n",
              "    <tr>\n",
              "      <th>84</th>\n",
              "      <td>14</td>\n",
              "      <td>84</td>\n",
              "    </tr>\n",
              "    <tr>\n",
              "      <th>87</th>\n",
              "      <td>23</td>\n",
              "      <td>22</td>\n",
              "    </tr>\n",
              "    <tr>\n",
              "      <th>91</th>\n",
              "      <td>32</td>\n",
              "      <td>31</td>\n",
              "    </tr>\n",
              "    <tr>\n",
              "      <th>97</th>\n",
              "      <td>92</td>\n",
              "      <td>90</td>\n",
              "    </tr>\n",
              "  </tbody>\n",
              "</table>\n",
              "</div>"
            ],
            "text/plain": [
              "    Answer Guess\n",
              "10      22    28\n",
              "13      97    37\n",
              "19       2     8\n",
              "21       8     2\n",
              "34      18    17\n",
              "42      92    72\n",
              "45      22    12\n",
              "47       9    69\n",
              "58      33    53\n",
              "59      21    31\n",
              "73      97    37\n",
              "84      14    84\n",
              "87      23    22\n",
              "91      32    31\n",
              "97      92    90"
            ]
          },
          "metadata": {
            "tags": []
          },
          "execution_count": 222
        }
      ]
    },
    {
      "cell_type": "code",
      "metadata": {
        "id": "bffPxjYDlEYJ"
      },
      "source": [
        "## Display some examples of *wrong* guesses\n",
        "###########################################\n",
        "#index = rd.choice(wrongs.index)  \n",
        "#a = wrongs.at[index,'Answer']\n",
        "#print(\"Answer[\",index,\"] is\", a)\n",
        "#print(\"Guess[\",index,\"] was\",wrongs.at[index,'Guess'])\n",
        "#plt.imshow(x_test[a,:,:,0])"
      ],
      "execution_count": null,
      "outputs": []
    },
    {
      "cell_type": "markdown",
      "metadata": {
        "id": "Q5Vulban4ZrD"
      },
      "source": [
        "### Evaluation"
      ]
    },
    {
      "cell_type": "code",
      "metadata": {
        "id": "0oj0gTIy4k60",
        "cellView": "form",
        "outputId": "94b385ea-4372-4a45-d20b-3fb07bea7095",
        "colab": {
          "base_uri": "https://localhost:8080/",
          "height": 562
        }
      },
      "source": [
        "#@title Display learning curves ##TO DO##\n",
        "\n",
        "####TO DO make better #########\n",
        "\n",
        "acc = mhistory.history['acc']\n",
        "val_acc = mhistory.history['val_acc']\n",
        "\n",
        "loss = mhistory.history['loss']\n",
        "val_loss = mhistory.history['val_loss']\n",
        "\n",
        "epochs = range(len(acc))\n",
        "\n",
        "plt.plot(epochs, acc)\n",
        "plt.plot(epochs, val_acc)\n",
        "plt.title('Training and validation accuracy')\n",
        "\n",
        "plt.figure()\n",
        "\n",
        "plt.plot(epochs, loss)\n",
        "plt.plot(epochs, val_loss)\n",
        "plt.title('Training and validation loss')"
      ],
      "execution_count": null,
      "outputs": [
        {
          "output_type": "execute_result",
          "data": {
            "text/plain": [
              "Text(0.5, 1.0, 'Training and validation loss')"
            ]
          },
          "metadata": {
            "tags": []
          },
          "execution_count": 218
        },
        {
          "output_type": "display_data",
          "data": {
            "image/png": "[encoded data removed]",
            "text/plain": [
              "<Figure size 432x288 with 1 Axes>"
            ]
          },
          "metadata": {
            "tags": [],
            "needs_background": "light"
          }
        },
        {
          "output_type": "display_data",
          "data": {
            "image/png": "[encoded data removed]",
            "text/plain": [
              "<Figure size 432x288 with 1 Axes>"
            ]
          },
          "metadata": {
            "tags": [],
            "needs_background": "light"
          }
        }
      ]
    }
  ]
}